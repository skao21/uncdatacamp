{
 "cells": [
  {
   "cell_type": "code",
   "execution_count": 1,
   "metadata": {},
   "outputs": [],
   "source": [
    "%matplotlib inline\n",
    "from matplotlib import style\n",
    "style.use('fivethirtyeight')\n",
    "import matplotlib.pyplot as plt"
   ]
  },
  {
   "cell_type": "code",
   "execution_count": 2,
   "metadata": {},
   "outputs": [],
   "source": [
    "import numpy as np\n",
    "import pandas as pd"
   ]
  },
  {
   "cell_type": "code",
   "execution_count": 3,
   "metadata": {},
   "outputs": [],
   "source": [
    "import datetime as dt"
   ]
  },
  {
   "cell_type": "markdown",
   "metadata": {},
   "source": [
    "# Reflect Tables into SQLAlchemy ORM"
   ]
  },
  {
   "cell_type": "code",
   "execution_count": 4,
   "metadata": {},
   "outputs": [],
   "source": [
    "# Python SQL toolkit and Object Relational Mapper\n",
    "import sqlalchemy\n",
    "from sqlalchemy.ext.automap import automap_base\n",
    "from sqlalchemy.orm import Session\n",
    "from sqlalchemy import create_engine, func"
   ]
  },
  {
   "cell_type": "code",
   "execution_count": 5,
   "metadata": {},
   "outputs": [],
   "source": [
    "engine = create_engine(\"sqlite:///Resources/hawaii.sqlite\")"
   ]
  },
  {
   "cell_type": "code",
   "execution_count": 6,
   "metadata": {},
   "outputs": [],
   "source": [
    "# reflect an existing database into a new model\n",
    "Base = automap_base()\n",
    "# reflect the tables\n",
    "Base.prepare(engine, reflect=True)"
   ]
  },
  {
   "cell_type": "code",
   "execution_count": 7,
   "metadata": {},
   "outputs": [
    {
     "data": {
      "text/plain": [
       "['measurement', 'station']"
      ]
     },
     "execution_count": 7,
     "metadata": {},
     "output_type": "execute_result"
    }
   ],
   "source": [
    "# We can view all of the classes that automap found\n",
    "Base.classes.keys()"
   ]
  },
  {
   "cell_type": "code",
   "execution_count": 8,
   "metadata": {},
   "outputs": [],
   "source": [
    "# Save references to each table\n",
    "Measurement = Base.classes.measurement\n",
    "Station = Base.classes.station"
   ]
  },
  {
   "cell_type": "code",
   "execution_count": 9,
   "metadata": {},
   "outputs": [],
   "source": [
    "# Create our session (link) from Python to the DB\n",
    "session = Session(engine)"
   ]
  },
  {
   "cell_type": "markdown",
   "metadata": {},
   "source": [
    "# Exploratory Climate Analysis"
   ]
  },
  {
   "cell_type": "code",
   "execution_count": 10,
   "metadata": {},
   "outputs": [
    {
     "data": {
      "image/png": "[encoded data removed]",
      "text/plain": [
       "<Figure size 960x800 with 1 Axes>"
      ]
     },
     "metadata": {
      "needs_background": "light"
     },
     "output_type": "display_data"
    }
   ],
   "source": [
    "# Design a query to retrieve the last 12 months of precipitation data and plot the results\n",
    "from datetime import datetime, timedelta\n",
    "\n",
    "# Calculate the date 1 year ago from the last data point in the database\n",
    "ymd_end = session.query(Measurement.date, Measurement.prcp).order_by(Measurement.date.desc()).first()[0]\n",
    "ymd_sobj = datetime.strptime(ymd_end + ' 0:0:0.0', '%Y-%m-%d  %H:%M:%S.%f') - timedelta(days=365)\n",
    "ymd_start = str(ymd_sobj).split()[0]\n",
    "\n",
    "# Perform a query to retrieve the data and precipitation scores\n",
    "rows = session.query(Measurement.date, Measurement.prcp).filter(Measurement.date.between(ymd_start, ymd_end)).all()\n",
    "\n",
    "# Save the query results as a Pandas DataFrame and set the index to the date column\n",
    "df = pd.DataFrame(rows, columns=['Date', 'Prcp'])\n",
    "\n",
    "# Sort the dataframe by date\n",
    "df = df.sort_values(by='Date', ascending=False)\n",
    "#df1 = df.groupby('Date')['Prcp'].sum().reset_index()\n",
    "x_axis = np.arange(len(df['Date']))\n",
    "plt.figure(figsize=(12, 10), dpi=80)\n",
    "plt.bar(x_axis, df['Prcp'], color=\"dodgerblue\", alpha=0.8, width=25.0, align=\"center\")\n",
    "plt.xlabel(\"Date\", fontsize=20)\n",
    "plt.ylabel(\"precipitation\", fontsize=20)\n",
    "plt.legend([\"precipitation\"], loc='upper center', fontsize=14)\n",
    "plt.show()"
   ]
  },
  {
   "cell_type": "code",
   "execution_count": 11,
   "metadata": {},
   "outputs": [
    {
     "data": {
      "text/html": [
       "<div>\n",
       "<style scoped>\n",
       "    .dataframe tbody tr th:only-of-type {\n",
       "        vertical-align: middle;\n",
       "    }\n",
       "\n",
       "    .dataframe tbody tr th {\n",
       "        vertical-align: top;\n",
       "    }\n",
       "\n",
       "    .dataframe thead th {\n",
       "        text-align: right;\n",
       "    }\n",
       "</style>\n",
       "<table border=\"1\" class=\"dataframe\">\n",
       "  <thead>\n",
       "    <tr style=\"text-align: right;\">\n",
       "      <th></th>\n",
       "      <th>Precipitions</th>\n",
       "    </tr>\n",
       "  </thead>\n",
       "  <tbody>\n",
       "    <tr>\n",
       "      <th>count</th>\n",
       "      <td>2021.000000</td>\n",
       "    </tr>\n",
       "    <tr>\n",
       "      <th>mean</th>\n",
       "      <td>0.177279</td>\n",
       "    </tr>\n",
       "    <tr>\n",
       "      <th>max</th>\n",
       "      <td>6.700000</td>\n",
       "    </tr>\n",
       "    <tr>\n",
       "      <th>std</th>\n",
       "      <td>0.461190</td>\n",
       "    </tr>\n",
       "    <tr>\n",
       "      <th>25%</th>\n",
       "      <td>0.000000</td>\n",
       "    </tr>\n",
       "    <tr>\n",
       "      <th>50%</th>\n",
       "      <td>0.020000</td>\n",
       "    </tr>\n",
       "    <tr>\n",
       "      <th>75%</th>\n",
       "      <td>0.130000</td>\n",
       "    </tr>\n",
       "    <tr>\n",
       "      <th>min</th>\n",
       "      <td>0.000000</td>\n",
       "    </tr>\n",
       "  </tbody>\n",
       "</table>\n",
       "</div>"
      ],
      "text/plain": [
       "       Precipitions\n",
       "count   2021.000000\n",
       "mean       0.177279\n",
       "max        6.700000\n",
       "std        0.461190\n",
       "25%        0.000000\n",
       "50%        0.020000\n",
       "75%        0.130000\n",
       "min        0.000000"
      ]
     },
     "execution_count": 11,
     "metadata": {},
     "output_type": "execute_result"
    }
   ],
   "source": [
    "# Use Pandas to calcualte the summary statistics for the precipitation data\n",
    "df1 = pd.DataFrame({\"Precipitions\": [df['Prcp'].count(), df['Prcp'].mean(), df['Prcp'].max(), df['Prcp'].std(), \\\n",
    "                                    df['Prcp'].quantile(0.25), df['Prcp'].quantile(0.50), df['Prcp'].quantile(0.75), \\\n",
    "                                    df['Prcp'].min() ],\n",
    "                    \"name\": [ 'count', 'mean', 'max', 'std', '25%', '50%', '75%', 'min']})\n",
    "df1.set_index(['name'], inplace = True, drop = True)\n",
    "del df1.index.name \n",
    "df1"
   ]
  },
  {
   "cell_type": "code",
   "execution_count": 12,
   "metadata": {},
   "outputs": [
    {
     "data": {
      "text/plain": [
       "9"
      ]
     },
     "execution_count": 12,
     "metadata": {},
     "output_type": "execute_result"
    }
   ],
   "source": [
    "# Design a query to show how many stations are available in this dataset?\n",
    "session.query(Station.station).count()"
   ]
  },
  {
   "cell_type": "code",
   "execution_count": 13,
   "metadata": {},
   "outputs": [
    {
     "data": {
      "text/plain": [
       "[('USC00519281', 2772),\n",
       " ('USC00519397', 2724),\n",
       " ('USC00513117', 2709),\n",
       " ('USC00519523', 2669),\n",
       " ('USC00516128', 2612),\n",
       " ('USC00514830', 2202),\n",
       " ('USC00511918', 1979),\n",
       " ('USC00517948', 1372),\n",
       " ('USC00518838', 511)]"
      ]
     },
     "execution_count": 13,
     "metadata": {},
     "output_type": "execute_result"
    }
   ],
   "source": [
    "# What are the most active stations? (i.e. what stations have the most rows)?\n",
    "# List the stations and the counts in descending order.\n",
    "from sqlalchemy import func\n",
    "sorted_stataions = session.query(Measurement.station, \\\n",
    "  func.count(Measurement.station)).group_by(Measurement.station).order_by(func.count(Measurement.station).desc()).all()\n",
    "sorted_stataions"
   ]
  },
  {
   "cell_type": "code",
   "execution_count": 14,
   "metadata": {},
   "outputs": [
    {
     "data": {
      "text/plain": [
       "'USC00519281'"
      ]
     },
     "execution_count": 14,
     "metadata": {},
     "output_type": "execute_result"
    }
   ],
   "source": [
    "most_active = sorted_stataions[0][0]\n",
    "most_active"
   ]
  },
  {
   "cell_type": "code",
   "execution_count": 15,
   "metadata": {},
   "outputs": [
    {
     "name": "stdout",
     "output_type": "stream",
     "text": [
      " highest Tosb=85.0,  lowest Tobs=54.0, average Tobs=71.66378066378067 \n"
     ]
    }
   ],
   "source": [
    "# Using the station id from the previous query, calculate the lowest temperature recorded, \n",
    "# highest temperature recorded, and average temperature most active station?\n",
    "most_active = sorted_stataions[0][0]\n",
    "from sqlalchemy import func\n",
    "max_tobs = session.query(Measurement.tobs). \\\n",
    " filter(Measurement.station==most_active).order_by(Measurement.tobs.desc()).first()[0]\n",
    "max_tobs\n",
    "min_tobs = session.query(Measurement.tobs). \\\n",
    " filter(Measurement.station==most_active).order_by(Measurement.tobs.asc()).first()[0]\n",
    "min_tobs\n",
    "avg_tobs = session.query(func.avg(Measurement.tobs)).filter(Measurement.station==most_active).all()[0][0]\n",
    "avg_tobs\n",
    "print(f' highest Tosb={max_tobs},  lowest Tobs={min_tobs}, average Tobs={avg_tobs} ')\n"
   ]
  },
  {
   "cell_type": "code",
   "execution_count": 16,
   "metadata": {},
   "outputs": [
    {
     "data": {
      "image/png": "[encoded data removed]",
      "text/plain": [
       "<Figure size 960x800 with 1 Axes>"
      ]
     },
     "metadata": {
      "needs_background": "light"
     },
     "output_type": "display_data"
    },
    {
     "name": "stdout",
     "output_type": "stream",
     "text": [
      "2017-08-23   2016-08-23\n"
     ]
    }
   ],
   "source": [
    "# Choose the station with the highest number of temperature observations.\n",
    "# Query the last 12 months of temperature observation data for this station and plot the results as a histogram\n",
    "st_hightest_tobs = session.query(Measurement.station,Measurement.tobs).order_by(Measurement.tobs.desc()).first()[0]\n",
    "st_hightest_tobs\n",
    "ymde = session.query(Measurement.date, Measurement.station, Measurement.tobs). \\\n",
    "        filter(Measurement.station==st_hightest_tobs).order_by(Measurement.date.desc()).first()[0]\n",
    "ymds = str(datetime.strptime(ymde + ' 0:0:0.0', '%Y-%m-%d  %H:%M:%S.%f') - timedelta(days=365)).split()[0]\n",
    "rows = session.query(Measurement.tobs, func.count(Measurement.tobs) ).filter(Measurement.station==st_hightest_tobs). \\\n",
    "                   filter(Measurement.date.between(ymds, ymde)).group_by(Measurement.tobs).all()\n",
    "rows\n",
    "df = pd.DataFrame(rows, columns=['Tobs', 'Frequency'])\n",
    "x_axis = np.arange(len(df['Tobs']))\n",
    "plt.figure(figsize=(12, 10), dpi=80)\n",
    "plt.bar(df['Tobs'], df['Frequency'], color=\"dodgerblue\", alpha=0.8, width=1.0, align=\"center\")\n",
    "plt.xlabel(\"Tobs\", fontsize=20)\n",
    "plt.ylabel(\"Frequency\", fontsize=20)\n",
    "plt.legend([\"tobs\"], loc='upper center', fontsize=14)\n",
    "plt.show()\n",
    "print(ymde, \" \" , ymds)"
   ]
  },
  {
   "cell_type": "code",
   "execution_count": 17,
   "metadata": {},
   "outputs": [
    {
     "name": "stdout",
     "output_type": "stream",
     "text": [
      "[(62.0, 69.57142857142857, 74.0)]\n"
     ]
    }
   ],
   "source": [
    "# This function called `calc_temps` will accept start date and end date in the format '%Y-%m-%d' \n",
    "# and return the minimum, average, and maximum temperatures for that range of dates\n",
    "def calc_temps(start_date, end_date):\n",
    "    \"\"\"TMIN, TAVG, and TMAX for a list of dates.\n",
    "    \n",
    "    Args:\n",
    "        start_date (string): A date string in the format %Y-%m-%d\n",
    "        end_date (string): A date string in the format %Y-%m-%d\n",
    "        \n",
    "    Returns:\n",
    "        TMIN, TAVE, and TMAX\n",
    "    \"\"\"\n",
    "    \n",
    "    return session.query(func.min(Measurement.tobs), func.avg(Measurement.tobs), func.max(Measurement.tobs)).\\\n",
    "        filter(Measurement.date >= start_date).filter(Measurement.date <= end_date).all()\n",
    "\n",
    "# function usage example\n",
    "print(calc_temps('2012-02-28', '2012-03-05'))"
   ]
  },
  {
   "cell_type": "code",
   "execution_count": 18,
   "metadata": {},
   "outputs": [
    {
     "data": {
      "text/plain": [
       "[(58.0, 74.53163404642694, 87.0)]"
      ]
     },
     "execution_count": 18,
     "metadata": {},
     "output_type": "execute_result"
    }
   ],
   "source": [
    "calc_temps(\"2016-08-28\", \"2017-08-23\")"
   ]
  },
  {
   "cell_type": "code",
   "execution_count": 19,
   "metadata": {},
   "outputs": [
    {
     "data": {
      "text/plain": [
       "[(58.0, 74.59058295964125, 87.0)]"
      ]
     },
     "execution_count": 19,
     "metadata": {},
     "output_type": "execute_result"
    }
   ],
   "source": [
    "# Use your previous function `calc_temps` to calculate the tmin, tavg, and tmax \n",
    "# for your trip using the previous year's data for those same dates.\n",
    "T = calc_temps(\"2016-08-23\", \"2017-08-23\")\n",
    "T"
   ]
  },
  {
   "cell_type": "code",
   "execution_count": 20,
   "metadata": {},
   "outputs": [
    {
     "data": {
      "image/png": "[encoded data removed]",
      "text/plain": [
       "<Figure size 144x432 with 1 Axes>"
      ]
     },
     "metadata": {
      "needs_background": "light"
     },
     "output_type": "display_data"
    }
   ],
   "source": [
    "import matplotlib.pyplot as plt\n",
    "import numpy as np\n",
    "%matplotlib inline\n",
    "\n",
    "Tmin, Tavg, Tmax  =  int(T[0][0]), int(T[0][1]), int(T[0][2]) \n",
    "Tavg, Tmin, Tmax\n",
    "x=[1]\n",
    "y=[Tavg]\n",
    "yerr_upper=[Tmax - Tavg]\n",
    "yerr_lower=[Tavg - Tmin]\n",
    "fig = plt.figure(figsize=(2,6))\n",
    "ax = fig.add_subplot(111)\n",
    "ax.bar(x,y,\n",
    "        width=0.2,\n",
    "        color='lightsalmon',\n",
    "        edgecolor='k',\n",
    "        yerr=[yerr_lower,yerr_upper],\n",
    "        linewidth = 2,\n",
    "        capsize=10)\n",
    "ax.set_title('Trip Avg Temp')\n",
    "ax.set_ylabel('Temp (F)')\n",
    "\n",
    "ax.set_xticks([])\n",
    "plt.show()"
   ]
  },
  {
   "cell_type": "code",
   "execution_count": 21,
   "metadata": {},
   "outputs": [],
   "source": [
    "# Calculate the total amount of rainfall per weather station for your trip dates using the previous year's matching dates.\n",
    "# Sort this in descending order by precipitation amount and list the station, name, latitude, longitude, and elevation\n",
    "\n"
   ]
  },
  {
   "cell_type": "code",
   "execution_count": 22,
   "metadata": {},
   "outputs": [
    {
     "data": {
      "text/plain": [
       "[('USC00516128',\n",
       "  'WAIKIKI 717.2, HI US',\n",
       "  21.2716,\n",
       "  -157.8168,\n",
       "  3.0,\n",
       "  1344.1499999999958),\n",
       " ('USC00519281',\n",
       "  'WAIKIKI 717.2, HI US',\n",
       "  21.2716,\n",
       "  -157.8168,\n",
       "  3.0,\n",
       "  723.1499999999997),\n",
       " ('USC00519523',\n",
       "  'WAIKIKI 717.2, HI US',\n",
       "  21.2716,\n",
       "  -157.8168,\n",
       "  3.0,\n",
       "  461.7899999999999),\n",
       " ('USC00513117',\n",
       "  'WAIKIKI 717.2, HI US',\n",
       "  21.2716,\n",
       "  -157.8168,\n",
       "  3.0,\n",
       "  422.18999999999954),\n",
       " ('USC00514830', 'WAIKIKI 717.2, HI US', 21.2716, -157.8168, 3.0, 357.93),\n",
       " ('USC00519397',\n",
       "  'WAIKIKI 717.2, HI US',\n",
       "  21.2716,\n",
       "  -157.8168,\n",
       "  3.0,\n",
       "  128.97000000000074),\n",
       " ('USC00511918',\n",
       "  'WAIKIKI 717.2, HI US',\n",
       "  21.2716,\n",
       "  -157.8168,\n",
       "  3.0,\n",
       "  70.92000000000009),\n",
       " ('USC00517948',\n",
       "  'WAIKIKI 717.2, HI US',\n",
       "  21.2716,\n",
       "  -157.8168,\n",
       "  3.0,\n",
       "  33.389999999999965),\n",
       " ('USC00518838', 'WAIKIKI 717.2, HI US', 21.2716, -157.8168, 3.0, 0.0)]"
      ]
     },
     "execution_count": 22,
     "metadata": {},
     "output_type": "execute_result"
    }
   ],
   "source": [
    "from datetime import datetime, timedelta\n",
    "\n",
    "# Calculate the date 1 year ago from the last data point in the database\n",
    "# ---  ymde = session.query(Measurement.date, Measurement.station, Measurement.tobs). \\\n",
    "# ---      filter(Measurement.station==st_hightest_tobs).order_by(Measurement.date.desc()).first()[0]\n",
    "ymde = session.query(Measurement.station, func.max(Measurement.date)). \\\n",
    "         group_by(Measurement.station).order_by(func.max(Measurement.date).asc()).first()[1]\n",
    "ymds = str(datetime.strptime(ymde + ' 0:0:0.0', '%Y-%m-%d  %H:%M:%S.%f') - timedelta(days=365)).split()[0]\n",
    "\n",
    "# Perform a query to retrieve the data and precipitation scores\n",
    "sel = [Measurement.station, Station.name, Station.latitude, Station.longitude, Station.elevation, func.sum(Measurement.prcp)]\n",
    "rows = session.query(*sel).filter(Measurement.date.between(ymds, ymde)).group_by(Measurement.station). \\\n",
    "                   order_by(func.sum(Measurement.prcp).desc()).all()\n",
    "rows\n",
    "\n",
    "#  -- find out the start date in record for each station\n",
    "#   session.query(Measurement.station, func.min(Measurement.date)). \\\n",
    "#    group_by(Measurement.station).order_by(func.min(Measurement.date).asc()).all()\n",
    "\n",
    "#  USC00519397   2010-01-01 -  2017-08-23\n",
    "#  USC00513117   2010-01-01 -  2017-07-31\n",
    "#  USC00514830   2010-03-01 -  2017-08-23 \n",
    "#  USC00517948   2010-05-03 -  2017-08-23 \n",
    "#  USC00518838   2010-01-01 -  2015-11-20\n",
    "#  USC00519523   2010-01-01 -  2017-08-23\n",
    "#  USC00519281   2010-01-01 -  2017-08-18\n",
    "#  USC00511918   2010-01-01 -  2015-10-30\n",
    "#  USC00516128   2010-01-01 -  2017-08-23"
   ]
  },
  {
   "cell_type": "markdown",
   "metadata": {},
   "source": [
    "## Optional Challenge Assignment"
   ]
  },
  {
   "cell_type": "code",
   "execution_count": 23,
   "metadata": {},
   "outputs": [
    {
     "data": {
      "text/plain": [
       "[(62.0, 69.15384615384616, 77.0)]"
      ]
     },
     "execution_count": 23,
     "metadata": {},
     "output_type": "execute_result"
    }
   ],
   "source": [
    "# Create a query that will calculate the daily normals \n",
    "# (i.e. the averages for tmin, tmax, and tavg for all historic data matching a specific month and day)\n",
    "\n",
    "def daily_normals(date):\n",
    "    \"\"\"Daily Normals.\n",
    "    \n",
    "    Args:\n",
    "        date (str): A date string in the format '%m-%d'\n",
    "        \n",
    "    Returns:\n",
    "        A list of tuples containing the daily normals, tmin, tavg, and tmax\n",
    "    \n",
    "    \"\"\"\n",
    "    \n",
    "    sel = [func.min(Measurement.tobs), func.avg(Measurement.tobs), func.max(Measurement.tobs)]\n",
    "    return session.query(*sel).filter(func.strftime(\"%m-%d\", Measurement.date) == date).all()\n",
    "    \n",
    "daily_normals(\"01-01\")"
   ]
  },
  {
   "cell_type": "code",
   "execution_count": 24,
   "metadata": {},
   "outputs": [
    {
     "data": {
      "text/plain": [
       "[(60.0, 68.47368421052632, 74.0),\n",
       " (56.0, 68.14035087719299, 78.0),\n",
       " (59.0, 68.85964912280701, 77.0),\n",
       " (58.0, 67.79661016949153, 77.0),\n",
       " (61.0, 68.14035087719299, 76.0),\n",
       " (59.0, 69.6842105263158, 80.0),\n",
       " (58.0, 70.38983050847457, 77.0),\n",
       " (60.0, 69.0, 77.0)]"
      ]
     },
     "execution_count": 24,
     "metadata": {},
     "output_type": "execute_result"
    }
   ],
   "source": [
    "# calculate the daily normals for your trip\n",
    "# push each tuple of calculations into a list called `normals`\n",
    "import datetime as dt\n",
    "\n",
    "# Set the start and end date of the trip\n",
    "start_d = dt.date(2015, 1 ,31)\n",
    "end_d = start_d + dt.timedelta(days=7)\n",
    "\n",
    "# Use the start and end date to create a range of dates\n",
    "drange = pd.date_range(start =start_d,  end = end_d)\n",
    "\n",
    "# Stip off the year and save a list of %m-%d strings\n",
    "y = str(start_d).split()[0].split('-')[0]\n",
    "dlist = [ str(x).split()[0].split('-')[1] + '-' + str(x).split()[0].split('-')[2] for x in drange]\n",
    "dlist\n",
    "# Loop through the list of %m-%d strings and calculate the normals for each date\n",
    "rlist = []\n",
    "for d in dlist:\n",
    "    rlist.append( daily_normals(d)[0] )\n",
    "rlist"
   ]
  },
  {
   "cell_type": "code",
   "execution_count": 25,
   "metadata": {},
   "outputs": [
    {
     "data": {
      "text/html": [
       "<div>\n",
       "<style scoped>\n",
       "    .dataframe tbody tr th:only-of-type {\n",
       "        vertical-align: middle;\n",
       "    }\n",
       "\n",
       "    .dataframe tbody tr th {\n",
       "        vertical-align: top;\n",
       "    }\n",
       "\n",
       "    .dataframe thead th {\n",
       "        text-align: right;\n",
       "    }\n",
       "</style>\n",
       "<table border=\"1\" class=\"dataframe\">\n",
       "  <thead>\n",
       "    <tr style=\"text-align: right;\">\n",
       "      <th></th>\n",
       "      <th>tmin</th>\n",
       "      <th>tavg</th>\n",
       "      <th>tmax</th>\n",
       "    </tr>\n",
       "    <tr>\n",
       "      <th>Date</th>\n",
       "      <th></th>\n",
       "      <th></th>\n",
       "      <th></th>\n",
       "    </tr>\n",
       "  </thead>\n",
       "  <tbody>\n",
       "    <tr>\n",
       "      <th>2015-01-31</th>\n",
       "      <td>60.0</td>\n",
       "      <td>68.473684</td>\n",
       "      <td>74.0</td>\n",
       "    </tr>\n",
       "    <tr>\n",
       "      <th>2015-02-01</th>\n",
       "      <td>56.0</td>\n",
       "      <td>68.140351</td>\n",
       "      <td>78.0</td>\n",
       "    </tr>\n",
       "    <tr>\n",
       "      <th>2015-02-02</th>\n",
       "      <td>59.0</td>\n",
       "      <td>68.859649</td>\n",
       "      <td>77.0</td>\n",
       "    </tr>\n",
       "    <tr>\n",
       "      <th>2015-02-03</th>\n",
       "      <td>58.0</td>\n",
       "      <td>67.796610</td>\n",
       "      <td>77.0</td>\n",
       "    </tr>\n",
       "    <tr>\n",
       "      <th>2015-02-04</th>\n",
       "      <td>61.0</td>\n",
       "      <td>68.140351</td>\n",
       "      <td>76.0</td>\n",
       "    </tr>\n",
       "    <tr>\n",
       "      <th>2015-02-05</th>\n",
       "      <td>59.0</td>\n",
       "      <td>69.684211</td>\n",
       "      <td>80.0</td>\n",
       "    </tr>\n",
       "    <tr>\n",
       "      <th>2015-02-06</th>\n",
       "      <td>58.0</td>\n",
       "      <td>70.389831</td>\n",
       "      <td>77.0</td>\n",
       "    </tr>\n",
       "    <tr>\n",
       "      <th>2015-02-07</th>\n",
       "      <td>60.0</td>\n",
       "      <td>69.000000</td>\n",
       "      <td>77.0</td>\n",
       "    </tr>\n",
       "  </tbody>\n",
       "</table>\n",
       "</div>"
      ],
      "text/plain": [
       "            tmin       tavg  tmax\n",
       "Date                             \n",
       "2015-01-31  60.0  68.473684  74.0\n",
       "2015-02-01  56.0  68.140351  78.0\n",
       "2015-02-02  59.0  68.859649  77.0\n",
       "2015-02-03  58.0  67.796610  77.0\n",
       "2015-02-04  61.0  68.140351  76.0\n",
       "2015-02-05  59.0  69.684211  80.0\n",
       "2015-02-06  58.0  70.389831  77.0\n",
       "2015-02-07  60.0  69.000000  77.0"
      ]
     },
     "execution_count": 25,
     "metadata": {},
     "output_type": "execute_result"
    }
   ],
   "source": [
    "tmin = [x[0] for x in rlist]\n",
    "tavg = [x[1] for x in rlist]\n",
    "tmax = [x[2] for x in rlist]\n",
    "ddd = [ str(y)+'-'+i for i in dlist ]\n",
    "ddd\n",
    "data = { 'Date': ddd, 'tmin' : tmin, 'tavg':tavg,  'tmax': tmax }\n",
    "df =  pd.DataFrame(data)\n",
    "df.set_index('Date')"
   ]
  },
  {
   "cell_type": "code",
   "execution_count": 26,
   "metadata": {},
   "outputs": [
    {
     "data": {
      "image/png": "[encoded data removed]",
      "text/plain": [
       "<Figure size 432x288 with 1 Axes>"
      ]
     },
     "metadata": {
      "needs_background": "light"
     },
     "output_type": "display_data"
    }
   ],
   "source": [
    "temp_chart = df.plot(kind='line')\n",
    "plt.xticks(range(len(ddd)), ddd, rotation='45', fontsize='14')\n",
    "plt.show()"
   ]
  }
 ],
 "metadata": {
  "kernel_info": {
   "name": "python3"
  },
  "kernelspec": {
   "display_name": "Python 3",
   "language": "python",
   "name": "python3"
  },
  "language_info": {
   "codemirror_mode": {
    "name": "ipython",
    "version": 3
   },
   "file_extension": ".py",
   "mimetype": "text/x-python",
   "name": "python",
   "nbconvert_exporter": "python",
   "pygments_lexer": "ipython3",
   "version": "3.7.3"
  },
  "nteract": {
   "version": "0.12.3"
  },
  "varInspector": {
   "cols": {
    "lenName": 16,
    "lenType": 16,
    "lenVar": 40
   },
   "kernels_config": {
    "python": {
     "delete_cmd_postfix": "",
     "delete_cmd_prefix": "del ",
     "library": "var_list.py",
     "varRefreshCmd": "print(var_dic_list())"
    },
    "r": {
     "delete_cmd_postfix": ") ",
     "delete_cmd_prefix": "rm(",
     "library": "var_list.r",
     "varRefreshCmd": "cat(var_dic_list()) "
    }
   },
   "types_to_exclude": [
    "module",
    "function",
    "builtin_function_or_method",
    "instance",
    "_Feature"
   ],
   "window_display": false
  }
 },
 "nbformat": 4,
 "nbformat_minor": 2
}
